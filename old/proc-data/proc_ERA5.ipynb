{
 "cells": [
  {
   "cell_type": "code",
   "execution_count": 6,
   "id": "329ae3b9",
   "metadata": {},
   "outputs": [],
   "source": [
    "import xarray as xr"
   ]
  },
  {
   "cell_type": "markdown",
   "id": "a8228d1c",
   "metadata": {},
   "source": [
    "# Rename variables in ERA5 Monthly data and merge\n",
    "# Original files to be deleted"
   ]
  },
  {
   "cell_type": "code",
   "execution_count": 7,
   "id": "c461c3c1",
   "metadata": {},
   "outputs": [],
   "source": [
    "path='/home/kpegion/data/shared/rean/ERA5/monthly/'\n",
    "fnames=['ERA5_Z500_1979-2022.nc','ERA5_Z200_1979-2022.nc','ERA5_U200_1979-2022.nc']\n",
    "varnames=['z','z','u']\n",
    "new_varnames=['Z500','Z200','U200']\n",
    "outfile='ERA5_1979-2022.nc'"
   ]
  },
  {
   "cell_type": "code",
   "execution_count": 8,
   "id": "92e33201",
   "metadata": {},
   "outputs": [],
   "source": [
    "ds_list=[]\n",
    "for (f,v,nv) in zip(fnames,varnames,new_varnames):\n",
    "    ds=xr.open_dataset(path+f)\n",
    "    #ds=ds.rename({v:nv})\n",
    "    ds_list.append(ds)\n",
    "    \n",
    "ds_merged=xr.merge(ds_list)    \n",
    "ds_merged.to_netcdf(path+outfile)"
   ]
  },
  {
   "cell_type": "code",
   "execution_count": null,
   "id": "f4890cc4",
   "metadata": {},
   "outputs": [],
   "source": []
  }
 ],
 "metadata": {
  "kernelspec": {
   "display_name": "Python (latest)",
   "language": "python",
   "name": "latest"
  },
  "language_info": {
   "codemirror_mode": {
    "name": "ipython",
    "version": 3
   },
   "file_extension": ".py",
   "mimetype": "text/x-python",
   "name": "python",
   "nbconvert_exporter": "python",
   "pygments_lexer": "ipython3",
   "version": "3.7.3"
  }
 },
 "nbformat": 4,
 "nbformat_minor": 5
}
